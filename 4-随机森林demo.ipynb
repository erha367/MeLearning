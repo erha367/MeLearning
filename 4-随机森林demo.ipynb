{
 "cells": [
  {
   "cell_type": "code",
   "execution_count": 29,
   "metadata": {},
   "outputs": [],
   "source": [
    "import pandas as pd\n",
    "import numpy as np\n",
    "import matplotlib.pyplot as plt\n",
    "from matplotlib.colors import ListedColormap\n",
    "from sklearn import tree,datasets\n",
    "from sklearn.model_selection import train_test_split"
   ]
  },
  {
   "cell_type": "code",
   "execution_count": 30,
   "metadata": {},
   "outputs": [],
   "source": [
    "strs = '年龄-单位性质-权重-学历-受教育时长-婚姻状况-职业-家庭情况-种族-性别-资产所得-资产损失-周工作时长-原籍-收入'\n",
    "L = strs.split('-')\n",
    "data = pd.read_csv('adult.csv',header=None,index_col=False,names=L)"
   ]
  },
  {
   "cell_type": "code",
   "execution_count": 31,
   "metadata": {},
   "outputs": [],
   "source": [
    "str2 = '年龄-单位性质-学历-性别-周工作时长-职业-收入'\n",
    "L2 = str2.split('-')\n",
    "data_little = data[L2]"
   ]
  },
  {
   "cell_type": "code",
   "execution_count": 32,
   "metadata": {},
   "outputs": [
    {
     "data": {
      "text/html": [
       "<div>\n",
       "<style scoped>\n",
       "    .dataframe tbody tr th:only-of-type {\n",
       "        vertical-align: middle;\n",
       "    }\n",
       "\n",
       "    .dataframe tbody tr th {\n",
       "        vertical-align: top;\n",
       "    }\n",
       "\n",
       "    .dataframe thead th {\n",
       "        text-align: right;\n",
       "    }\n",
       "</style>\n",
       "<table border=\"1\" class=\"dataframe\">\n",
       "  <thead>\n",
       "    <tr style=\"text-align: right;\">\n",
       "      <th></th>\n",
       "      <th>年龄</th>\n",
       "      <th>单位性质</th>\n",
       "      <th>学历</th>\n",
       "      <th>性别</th>\n",
       "      <th>周工作时长</th>\n",
       "      <th>职业</th>\n",
       "      <th>收入</th>\n",
       "    </tr>\n",
       "  </thead>\n",
       "  <tbody>\n",
       "    <tr>\n",
       "      <th>0</th>\n",
       "      <td>39</td>\n",
       "      <td>State-gov</td>\n",
       "      <td>Bachelors</td>\n",
       "      <td>Male</td>\n",
       "      <td>40</td>\n",
       "      <td>Adm-clerical</td>\n",
       "      <td>&lt;=50K</td>\n",
       "    </tr>\n",
       "    <tr>\n",
       "      <th>1</th>\n",
       "      <td>50</td>\n",
       "      <td>Self-emp-not-inc</td>\n",
       "      <td>Bachelors</td>\n",
       "      <td>Male</td>\n",
       "      <td>13</td>\n",
       "      <td>Exec-managerial</td>\n",
       "      <td>&lt;=50K</td>\n",
       "    </tr>\n",
       "    <tr>\n",
       "      <th>2</th>\n",
       "      <td>38</td>\n",
       "      <td>Private</td>\n",
       "      <td>HS-grad</td>\n",
       "      <td>Male</td>\n",
       "      <td>40</td>\n",
       "      <td>Handlers-cleaners</td>\n",
       "      <td>&lt;=50K</td>\n",
       "    </tr>\n",
       "    <tr>\n",
       "      <th>3</th>\n",
       "      <td>53</td>\n",
       "      <td>Private</td>\n",
       "      <td>11th</td>\n",
       "      <td>Male</td>\n",
       "      <td>40</td>\n",
       "      <td>Handlers-cleaners</td>\n",
       "      <td>&lt;=50K</td>\n",
       "    </tr>\n",
       "    <tr>\n",
       "      <th>4</th>\n",
       "      <td>28</td>\n",
       "      <td>Private</td>\n",
       "      <td>Bachelors</td>\n",
       "      <td>Female</td>\n",
       "      <td>40</td>\n",
       "      <td>Prof-specialty</td>\n",
       "      <td>&lt;=50K</td>\n",
       "    </tr>\n",
       "  </tbody>\n",
       "</table>\n",
       "</div>"
      ],
      "text/plain": [
       "   年龄               单位性质          学历       性别  周工作时长                  职业  \\\n",
       "0  39          State-gov   Bachelors     Male     40        Adm-clerical   \n",
       "1  50   Self-emp-not-inc   Bachelors     Male     13     Exec-managerial   \n",
       "2  38            Private     HS-grad     Male     40   Handlers-cleaners   \n",
       "3  53            Private        11th     Male     40   Handlers-cleaners   \n",
       "4  28            Private   Bachelors   Female     40      Prof-specialty   \n",
       "\n",
       "       收入  \n",
       "0   <=50K  \n",
       "1   <=50K  \n",
       "2   <=50K  \n",
       "3   <=50K  \n",
       "4   <=50K  "
      ]
     },
     "execution_count": 32,
     "metadata": {},
     "output_type": "execute_result"
    }
   ],
   "source": [
    "data_little.head()"
   ]
  },
  {
   "cell_type": "code",
   "execution_count": 33,
   "metadata": {},
   "outputs": [],
   "source": [
    "data_dummies = pd.get_dummies(data_little)"
   ]
  },
  {
   "cell_type": "code",
   "execution_count": 34,
   "metadata": {},
   "outputs": [
    {
     "data": {
      "text/plain": [
       "['年龄', '单位性质', '学历', '性别', '周工作时长', '职业', '收入']"
      ]
     },
     "execution_count": 34,
     "metadata": {},
     "output_type": "execute_result"
    }
   ],
   "source": [
    "list(data_little.columns)"
   ]
  },
  {
   "cell_type": "code",
   "execution_count": 35,
   "metadata": {},
   "outputs": [
    {
     "data": {
      "text/plain": [
       "['年龄',\n",
       " '周工作时长',\n",
       " '单位性质_ ?',\n",
       " '单位性质_ Federal-gov',\n",
       " '单位性质_ Local-gov',\n",
       " '单位性质_ Never-worked',\n",
       " '单位性质_ Private',\n",
       " '单位性质_ Self-emp-inc',\n",
       " '单位性质_ Self-emp-not-inc',\n",
       " '单位性质_ State-gov',\n",
       " '单位性质_ Without-pay',\n",
       " '学历_ 10th',\n",
       " '学历_ 11th',\n",
       " '学历_ 12th',\n",
       " '学历_ 1st-4th',\n",
       " '学历_ 5th-6th',\n",
       " '学历_ 7th-8th',\n",
       " '学历_ 9th',\n",
       " '学历_ Assoc-acdm',\n",
       " '学历_ Assoc-voc',\n",
       " '学历_ Bachelors',\n",
       " '学历_ Doctorate',\n",
       " '学历_ HS-grad',\n",
       " '学历_ Masters',\n",
       " '学历_ Preschool',\n",
       " '学历_ Prof-school',\n",
       " '学历_ Some-college',\n",
       " '性别_ Female',\n",
       " '性别_ Male',\n",
       " '职业_ ?',\n",
       " '职业_ Adm-clerical',\n",
       " '职业_ Armed-Forces',\n",
       " '职业_ Craft-repair',\n",
       " '职业_ Exec-managerial',\n",
       " '职业_ Farming-fishing',\n",
       " '职业_ Handlers-cleaners',\n",
       " '职业_ Machine-op-inspct',\n",
       " '职业_ Other-service',\n",
       " '职业_ Priv-house-serv',\n",
       " '职业_ Prof-specialty',\n",
       " '职业_ Protective-serv',\n",
       " '职业_ Sales',\n",
       " '职业_ Tech-support',\n",
       " '职业_ Transport-moving',\n",
       " '收入_ <=50K',\n",
       " '收入_ >50K']"
      ]
     },
     "execution_count": 35,
     "metadata": {},
     "output_type": "execute_result"
    }
   ],
   "source": [
    "#将文本数据转化为数值\n",
    "list(data_dummies.columns)"
   ]
  },
  {
   "cell_type": "code",
   "execution_count": 36,
   "metadata": {},
   "outputs": [
    {
     "data": {
      "text/html": [
       "<div>\n",
       "<style scoped>\n",
       "    .dataframe tbody tr th:only-of-type {\n",
       "        vertical-align: middle;\n",
       "    }\n",
       "\n",
       "    .dataframe tbody tr th {\n",
       "        vertical-align: top;\n",
       "    }\n",
       "\n",
       "    .dataframe thead th {\n",
       "        text-align: right;\n",
       "    }\n",
       "</style>\n",
       "<table border=\"1\" class=\"dataframe\">\n",
       "  <thead>\n",
       "    <tr style=\"text-align: right;\">\n",
       "      <th></th>\n",
       "      <th>年龄</th>\n",
       "      <th>周工作时长</th>\n",
       "      <th>单位性质_ ?</th>\n",
       "      <th>单位性质_ Federal-gov</th>\n",
       "      <th>单位性质_ Local-gov</th>\n",
       "      <th>单位性质_ Never-worked</th>\n",
       "      <th>单位性质_ Private</th>\n",
       "      <th>单位性质_ Self-emp-inc</th>\n",
       "      <th>单位性质_ Self-emp-not-inc</th>\n",
       "      <th>单位性质_ State-gov</th>\n",
       "      <th>...</th>\n",
       "      <th>职业_ Machine-op-inspct</th>\n",
       "      <th>职业_ Other-service</th>\n",
       "      <th>职业_ Priv-house-serv</th>\n",
       "      <th>职业_ Prof-specialty</th>\n",
       "      <th>职业_ Protective-serv</th>\n",
       "      <th>职业_ Sales</th>\n",
       "      <th>职业_ Tech-support</th>\n",
       "      <th>职业_ Transport-moving</th>\n",
       "      <th>收入_ &lt;=50K</th>\n",
       "      <th>收入_ &gt;50K</th>\n",
       "    </tr>\n",
       "  </thead>\n",
       "  <tbody>\n",
       "    <tr>\n",
       "      <th>0</th>\n",
       "      <td>39</td>\n",
       "      <td>40</td>\n",
       "      <td>0</td>\n",
       "      <td>0</td>\n",
       "      <td>0</td>\n",
       "      <td>0</td>\n",
       "      <td>0</td>\n",
       "      <td>0</td>\n",
       "      <td>0</td>\n",
       "      <td>1</td>\n",
       "      <td>...</td>\n",
       "      <td>0</td>\n",
       "      <td>0</td>\n",
       "      <td>0</td>\n",
       "      <td>0</td>\n",
       "      <td>0</td>\n",
       "      <td>0</td>\n",
       "      <td>0</td>\n",
       "      <td>0</td>\n",
       "      <td>1</td>\n",
       "      <td>0</td>\n",
       "    </tr>\n",
       "    <tr>\n",
       "      <th>1</th>\n",
       "      <td>50</td>\n",
       "      <td>13</td>\n",
       "      <td>0</td>\n",
       "      <td>0</td>\n",
       "      <td>0</td>\n",
       "      <td>0</td>\n",
       "      <td>0</td>\n",
       "      <td>0</td>\n",
       "      <td>1</td>\n",
       "      <td>0</td>\n",
       "      <td>...</td>\n",
       "      <td>0</td>\n",
       "      <td>0</td>\n",
       "      <td>0</td>\n",
       "      <td>0</td>\n",
       "      <td>0</td>\n",
       "      <td>0</td>\n",
       "      <td>0</td>\n",
       "      <td>0</td>\n",
       "      <td>1</td>\n",
       "      <td>0</td>\n",
       "    </tr>\n",
       "    <tr>\n",
       "      <th>2</th>\n",
       "      <td>38</td>\n",
       "      <td>40</td>\n",
       "      <td>0</td>\n",
       "      <td>0</td>\n",
       "      <td>0</td>\n",
       "      <td>0</td>\n",
       "      <td>1</td>\n",
       "      <td>0</td>\n",
       "      <td>0</td>\n",
       "      <td>0</td>\n",
       "      <td>...</td>\n",
       "      <td>0</td>\n",
       "      <td>0</td>\n",
       "      <td>0</td>\n",
       "      <td>0</td>\n",
       "      <td>0</td>\n",
       "      <td>0</td>\n",
       "      <td>0</td>\n",
       "      <td>0</td>\n",
       "      <td>1</td>\n",
       "      <td>0</td>\n",
       "    </tr>\n",
       "    <tr>\n",
       "      <th>3</th>\n",
       "      <td>53</td>\n",
       "      <td>40</td>\n",
       "      <td>0</td>\n",
       "      <td>0</td>\n",
       "      <td>0</td>\n",
       "      <td>0</td>\n",
       "      <td>1</td>\n",
       "      <td>0</td>\n",
       "      <td>0</td>\n",
       "      <td>0</td>\n",
       "      <td>...</td>\n",
       "      <td>0</td>\n",
       "      <td>0</td>\n",
       "      <td>0</td>\n",
       "      <td>0</td>\n",
       "      <td>0</td>\n",
       "      <td>0</td>\n",
       "      <td>0</td>\n",
       "      <td>0</td>\n",
       "      <td>1</td>\n",
       "      <td>0</td>\n",
       "    </tr>\n",
       "    <tr>\n",
       "      <th>4</th>\n",
       "      <td>28</td>\n",
       "      <td>40</td>\n",
       "      <td>0</td>\n",
       "      <td>0</td>\n",
       "      <td>0</td>\n",
       "      <td>0</td>\n",
       "      <td>1</td>\n",
       "      <td>0</td>\n",
       "      <td>0</td>\n",
       "      <td>0</td>\n",
       "      <td>...</td>\n",
       "      <td>0</td>\n",
       "      <td>0</td>\n",
       "      <td>0</td>\n",
       "      <td>1</td>\n",
       "      <td>0</td>\n",
       "      <td>0</td>\n",
       "      <td>0</td>\n",
       "      <td>0</td>\n",
       "      <td>1</td>\n",
       "      <td>0</td>\n",
       "    </tr>\n",
       "  </tbody>\n",
       "</table>\n",
       "<p>5 rows × 46 columns</p>\n",
       "</div>"
      ],
      "text/plain": [
       "   年龄  周工作时长  单位性质_ ?  单位性质_ Federal-gov  单位性质_ Local-gov  单位性质_ Never-worked  \\\n",
       "0  39     40        0                  0                0                   0   \n",
       "1  50     13        0                  0                0                   0   \n",
       "2  38     40        0                  0                0                   0   \n",
       "3  53     40        0                  0                0                   0   \n",
       "4  28     40        0                  0                0                   0   \n",
       "\n",
       "   单位性质_ Private  单位性质_ Self-emp-inc  单位性质_ Self-emp-not-inc  单位性质_ State-gov  \\\n",
       "0              0                   0                       0                1   \n",
       "1              0                   0                       1                0   \n",
       "2              1                   0                       0                0   \n",
       "3              1                   0                       0                0   \n",
       "4              1                   0                       0                0   \n",
       "\n",
       "     ...     职业_ Machine-op-inspct  职业_ Other-service  职业_ Priv-house-serv  \\\n",
       "0    ...                         0                  0                    0   \n",
       "1    ...                         0                  0                    0   \n",
       "2    ...                         0                  0                    0   \n",
       "3    ...                         0                  0                    0   \n",
       "4    ...                         0                  0                    0   \n",
       "\n",
       "   职业_ Prof-specialty  职业_ Protective-serv  职业_ Sales  职业_ Tech-support  \\\n",
       "0                   0                    0          0                 0   \n",
       "1                   0                    0          0                 0   \n",
       "2                   0                    0          0                 0   \n",
       "3                   0                    0          0                 0   \n",
       "4                   1                    0          0                 0   \n",
       "\n",
       "   职业_ Transport-moving  收入_ <=50K  收入_ >50K  \n",
       "0                     0          1         0  \n",
       "1                     0          1         0  \n",
       "2                     0          1         0  \n",
       "3                     0          1         0  \n",
       "4                     0          1         0  \n",
       "\n",
       "[5 rows x 46 columns]"
      ]
     },
     "execution_count": 36,
     "metadata": {},
     "output_type": "execute_result"
    }
   ],
   "source": [
    "data_dummies.head()"
   ]
  },
  {
   "cell_type": "code",
   "execution_count": 39,
   "metadata": {},
   "outputs": [],
   "source": [
    "features = data_dummies.loc[:,'年龄':'职业_ Transport-moving']\n",
    "X = features.values\n",
    "y = data_dummies['收入_ >50K'].values"
   ]
  },
  {
   "cell_type": "code",
   "execution_count": 40,
   "metadata": {},
   "outputs": [
    {
     "data": {
      "text/plain": [
       "((32561, 44), (32561,))"
      ]
     },
     "execution_count": 40,
     "metadata": {},
     "output_type": "execute_result"
    }
   ],
   "source": [
    "#数据形态\n",
    "X.shape,y.shape"
   ]
  },
  {
   "cell_type": "code",
   "execution_count": 41,
   "metadata": {},
   "outputs": [],
   "source": [
    "X_train,X_test,y_train,y_test = train_test_split(X,y,random_state=0)"
   ]
  },
  {
   "cell_type": "code",
   "execution_count": 42,
   "metadata": {},
   "outputs": [
    {
     "data": {
      "text/plain": [
       "DecisionTreeClassifier(class_weight=None, criterion='gini', max_depth=5,\n",
       "            max_features=None, max_leaf_nodes=None,\n",
       "            min_impurity_decrease=0.0, min_impurity_split=None,\n",
       "            min_samples_leaf=1, min_samples_split=2,\n",
       "            min_weight_fraction_leaf=0.0, presort=False, random_state=None,\n",
       "            splitter='best')"
      ]
     },
     "execution_count": 42,
     "metadata": {},
     "output_type": "execute_result"
    }
   ],
   "source": [
    "go_dating_tree = tree.DecisionTreeClassifier(max_depth=5)\n",
    "go_dating_tree.fit(X_train,y_train)"
   ]
  },
  {
   "cell_type": "code",
   "execution_count": 44,
   "metadata": {},
   "outputs": [
    {
     "data": {
      "text/plain": [
       "0.7962166809974205"
      ]
     },
     "execution_count": 44,
     "metadata": {},
     "output_type": "execute_result"
    }
   ],
   "source": [
    "#模型得分\n",
    "go_dating_tree.score(X_test,y_test)"
   ]
  },
  {
   "cell_type": "code",
   "execution_count": 47,
   "metadata": {},
   "outputs": [],
   "source": [
    "Mr_z = [[37,40,0,0,0,0,0,0,0,0,0,0,0,0,0,0,0,0,0,0,0,0,0,0,0,0,0,0,0,0,0,0,0,0,0,0,0,0,0,0,0,0,0,0]]\n",
    "S = go_dating_tree.predict(Mr_z)"
   ]
  },
  {
   "cell_type": "code",
   "execution_count": 49,
   "metadata": {},
   "outputs": [
    {
     "data": {
      "text/plain": [
       "0"
      ]
     },
     "execution_count": 49,
     "metadata": {},
     "output_type": "execute_result"
    }
   ],
   "source": [
    "S[0]"
   ]
  },
  {
   "cell_type": "code",
   "execution_count": null,
   "metadata": {},
   "outputs": [],
   "source": []
  }
 ],
 "metadata": {
  "kernelspec": {
   "display_name": "Python 3",
   "language": "python",
   "name": "python3"
  },
  "language_info": {
   "codemirror_mode": {
    "name": "ipython",
    "version": 3
   },
   "file_extension": ".py",
   "mimetype": "text/x-python",
   "name": "python",
   "nbconvert_exporter": "python",
   "pygments_lexer": "ipython3",
   "version": "3.6.4"
  }
 },
 "nbformat": 4,
 "nbformat_minor": 2
}
