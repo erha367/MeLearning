{
 "cells": [
  {
   "cell_type": "code",
   "execution_count": 2,
   "metadata": {
    "collapsed": true
   },
   "outputs": [],
   "source": [
    "#三大件\n",
    "import numpy as np\n",
    "import pandas as pd\n",
    "import matplotlib.pyplot as plt\n",
    "#线性回归\n",
    "from sklearn import linear_model\n",
    "#模型评价\n",
    "from sklearn import metrics\n",
    "%matplotlib inline\n",
    "# Size of the points dataset.\n",
    "m = 10\n",
    "# 样本数据\n",
    "X1 = np.array([24,22.5,23.5,21,25.4,23,24.5,22,25,25.5]).reshape(m, 1)\n",
    "# 预测数据\n",
    "X2 = np.array([30,31]).reshape(2, 1)"
   ]
  },
  {
   "cell_type": "code",
   "execution_count": 3,
   "metadata": {},
   "outputs": [
    {
     "data": {
      "text/plain": [
       "array([[171],\n",
       "       [158],\n",
       "       [167],\n",
       "       [158],\n",
       "       [176],\n",
       "       [166],\n",
       "       [173],\n",
       "       [160],\n",
       "       [168],\n",
       "       [175]])"
      ]
     },
     "execution_count": 3,
     "metadata": {},
     "output_type": "execute_result"
    }
   ],
   "source": [
    "# 样本数据\n",
    "y = np.array([171,158,167,158,176,166,173,160,168,175]).reshape(m, 1)\n",
    "y"
   ]
  },
  {
   "cell_type": "code",
   "execution_count": 7,
   "metadata": {},
   "outputs": [
    {
     "data": {
      "image/png": "[encoded data removed]",
      "text/plain": [
       "<matplotlib.figure.Figure at 0x109c82940>"
      ]
     },
     "metadata": {},
     "output_type": "display_data"
    }
   ],
   "source": [
    "plt.scatter(X1,y,c='b',marker='+')\n",
    "plt.show()"
   ]
  },
  {
   "cell_type": "code",
   "execution_count": 17,
   "metadata": {
    "scrolled": true
   },
   "outputs": [
    {
     "data": {
      "text/plain": [
       "(array([[4.10472319]]), array([70.16434379]))"
      ]
     },
     "execution_count": 17,
     "metadata": {},
     "output_type": "execute_result"
    }
   ],
   "source": [
    "#数据分布\n",
    "clf = linear_model.LinearRegression()\n",
    "clf.fit(X1,y)\n",
    "theta = clf.coef_\n",
    "#theta\n",
    "clf.coef_,clf.intercept_"
   ]
  },
  {
   "cell_type": "code",
   "execution_count": 11,
   "metadata": {},
   "outputs": [
    {
     "data": {
      "image/png": "[encoded data removed]",
      "text/plain": [
       "<matplotlib.figure.Figure at 0x109dd4e48>"
      ]
     },
     "metadata": {},
     "output_type": "display_data"
    }
   ],
   "source": [
    "plt.plot(X1, y, 'b*')\n",
    "plt.plot(X1, 70.164+X1*theta[0][0], 'r')\n",
    "plt.show()"
   ]
  },
  {
   "cell_type": "code",
   "execution_count": 12,
   "metadata": {},
   "outputs": [
    {
     "data": {
      "text/plain": [
       "array([[193.30603949],\n",
       "       [197.41076268]])"
      ]
     },
     "execution_count": 12,
     "metadata": {},
     "output_type": "execute_result"
    }
   ],
   "source": [
    "#就是预测脚印是30，31的\n",
    "y_predict_value = clf.predict(X2)\n",
    "y_predict_value"
   ]
  },
  {
   "cell_type": "code",
   "execution_count": 13,
   "metadata": {},
   "outputs": [
    {
     "data": {
      "text/plain": [
       "array([[168.67735656],\n",
       "       [162.52027178],\n",
       "       [166.62499497],\n",
       "       [156.36318699],\n",
       "       [174.42396903],\n",
       "       [164.57263337],\n",
       "       [170.72971816],\n",
       "       [160.46791018],\n",
       "       [172.78207975],\n",
       "       [174.83444135]])"
      ]
     },
     "execution_count": 13,
     "metadata": {},
     "output_type": "execute_result"
    }
   ],
   "source": [
    "#模型评估\n",
    "y_pred = 70.164+X1*theta[0][0]\n",
    "y_pred"
   ]
  },
  {
   "cell_type": "code",
   "execution_count": 14,
   "metadata": {},
   "outputs": [
    {
     "name": "stdout",
     "output_type": "stream",
     "text": [
      "MSE: 6.143738019853718\n"
     ]
    }
   ],
   "source": [
    "#均方误差\n",
    "print(\"MSE:\",metrics.mean_squared_error(y, y_pred))"
   ]
  },
  {
   "cell_type": "code",
   "execution_count": 15,
   "metadata": {},
   "outputs": [
    {
     "name": "stdout",
     "output_type": "stream",
     "text": [
      "R^2: 0.8500063959996651\n"
     ]
    }
   ],
   "source": [
    "#R ^ 2（确定系数）回归分数 接近1最好\n",
    "print(\"R^2:\",metrics.r2_score(y, y_pred))"
   ]
  },
  {
   "cell_type": "code",
   "execution_count": null,
   "metadata": {
    "collapsed": true
   },
   "outputs": [],
   "source": []
  }
 ],
 "metadata": {
  "kernelspec": {
   "display_name": "Python 3",
   "language": "python",
   "name": "python3"
  },
  "language_info": {
   "codemirror_mode": {
    "name": "ipython",
    "version": 3
   },
   "file_extension": ".py",
   "mimetype": "text/x-python",
   "name": "python",
   "nbconvert_exporter": "python",
   "pygments_lexer": "ipython3",
   "version": "3.6.3"
  }
 },
 "nbformat": 4,
 "nbformat_minor": 2
}
